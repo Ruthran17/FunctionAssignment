{
 "cells": [
  {
   "cell_type": "code",
   "execution_count": 2,
   "id": "20d6dd39-7678-4e08-86e8-876bd51957e8",
   "metadata": {},
   "outputs": [],
   "source": [
    "def Subfields():\n",
    "    print(\"Sub-fields in AI are:\")\n",
    "    List=['Machine Learning', 'Neural Networks', 'Vision', 'Robotics', 'Speech','Processing', 'Natural Language Processing']\n",
    "    for temp in List:\n",
    "        print(temp)"
   ]
  },
  {
   "cell_type": "code",
   "execution_count": 3,
   "id": "6f2ac7bd-270f-4be9-aa3e-b0356ce048b9",
   "metadata": {},
   "outputs": [
    {
     "name": "stdout",
     "output_type": "stream",
     "text": [
      "Sub-fields in AI are:\n",
      "Machine Learning\n",
      "Neural Networks\n",
      "Vision\n",
      "Robotics\n",
      "Speech\n",
      "Processing\n",
      "Natural Language Processing\n"
     ]
    }
   ],
   "source": [
    "Subfields()"
   ]
  },
  {
   "cell_type": "code",
   "execution_count": 4,
   "id": "1fd503af-2ea7-4d0e-a93f-5bbf4cdae211",
   "metadata": {},
   "outputs": [],
   "source": [
    "def OddEven():\n",
    "    num = int(input(\"Enter a number: \"))\n",
    "    if (num % 2) == 0:\n",
    "        print(\"{0} is Even number\".format(num))\n",
    "    else:\n",
    "        print(\"{0} is Odd number\".format(num))"
   ]
  },
  {
   "cell_type": "code",
   "execution_count": 5,
   "id": "4c2daaaf-16b6-4f13-9c51-a65ee51cfa19",
   "metadata": {},
   "outputs": [
    {
     "name": "stdin",
     "output_type": "stream",
     "text": [
      "Enter a number:  4\n"
     ]
    },
    {
     "name": "stdout",
     "output_type": "stream",
     "text": [
      "4 is Even number\n"
     ]
    }
   ],
   "source": [
    "OddEven()"
   ]
  },
  {
   "cell_type": "code",
   "execution_count": 8,
   "id": "ad014e22-0c15-4077-99bd-c95e1942f610",
   "metadata": {},
   "outputs": [],
   "source": [
    "def Elegible():\n",
    "    gender=input(\"Your Gender:\")\n",
    "    age=int(input(\"Your Age:\"))\n",
    "    if(gender==\"Male\"):\n",
    "            if(age >=21):\n",
    "                print(\"ELIGIBLE\")\n",
    "            else:\n",
    "                print(\"NOT ELIGIBLE\")\n",
    "    elif(gender==\"Female\"):\n",
    "        if(age >18):\n",
    "            print(\"ELIGIBLE\")\n",
    "        else:\n",
    "            print(\"NOT ELIGIBLE\")\n",
    "    else:\n",
    "        print(\"INVALID INPUT DATA\")"
   ]
  },
  {
   "cell_type": "code",
   "execution_count": 12,
   "id": "1cc4e6a8-88dd-4a25-9ab0-3abbda6ea39c",
   "metadata": {},
   "outputs": [
    {
     "name": "stdin",
     "output_type": "stream",
     "text": [
      "Your Gender: Male\n",
      "Your Age: 18\n"
     ]
    },
    {
     "name": "stdout",
     "output_type": "stream",
     "text": [
      "NOT ELIGIBLE\n"
     ]
    }
   ],
   "source": [
    "Elegible()"
   ]
  },
  {
   "cell_type": "code",
   "execution_count": 15,
   "id": "c89668b4-a9cb-4b85-8456-6aeeeb2546ba",
   "metadata": {},
   "outputs": [],
   "source": [
    "def percentage():\n",
    "    m1=int(input(\"Subject1= \"))\n",
    "    m2=int(input(\"Subject2= \"))\n",
    "    m3=int(input(\"Subject3= \"))\n",
    "    m4=int(input(\"Subject4= \"))\n",
    "    m5=int(input(\"Subject5= \"))\n",
    "    Total = m1+m2+m3+m4+m5\n",
    "    print(\"Total : \",Total)\n",
    "    Percent = (Total / 500) * 100\n",
    "    print(\"Percentage : \",Percent)"
   ]
  },
  {
   "cell_type": "code",
   "execution_count": 16,
   "id": "39394490-7c60-4800-96f1-78a621cc25d3",
   "metadata": {},
   "outputs": [
    {
     "name": "stdin",
     "output_type": "stream",
     "text": [
      "Subject1=  23\n",
      "Subject2=  45\n",
      "Subject3=  34\n",
      "Subject4=  23\n",
      "Subject5=  23\n"
     ]
    },
    {
     "name": "stdout",
     "output_type": "stream",
     "text": [
      "Total :  148\n",
      "Percentage :  29.599999999999998\n"
     ]
    }
   ],
   "source": [
    "percentage()"
   ]
  },
  {
   "cell_type": "code",
   "execution_count": 17,
   "id": "33f54dcc-c422-4634-b2c5-7bdc251df2e0",
   "metadata": {},
   "outputs": [],
   "source": [
    "def triangle():\n",
    "    Height=int(input(\"Height:\"))\n",
    "    breadth=int(input(\"Breadth:\"))\n",
    "    print(\"Area formula: (Height*Breadth)/2\")\n",
    "    print(\"Area of Triangle: \",(Height*breadth)/2)\n",
    "    Height1=int(input(\"Height1:\"))\n",
    "    Height2=int(input(\"Height2:\"))\n",
    "    breadth=int(input(\"Breadth:\"))\n",
    "    print(\"Perimeter formula: Height1+Height2+Breadth\")\n",
    "    print(\"Perimeter of Triangle: \",Height1+Height2+breadth)"
   ]
  },
  {
   "cell_type": "code",
   "execution_count": 18,
   "id": "ff208c4c-a828-4e8d-b593-f4fb958eaeea",
   "metadata": {},
   "outputs": [
    {
     "name": "stdin",
     "output_type": "stream",
     "text": [
      "Height: 3\n",
      "Breadth: 4\n"
     ]
    },
    {
     "name": "stdout",
     "output_type": "stream",
     "text": [
      "Area formula: (Height*Breadth)/2\n",
      "Area of Triangle:  6.0\n"
     ]
    },
    {
     "name": "stdin",
     "output_type": "stream",
     "text": [
      "Height1: 3\n",
      "Height2: 4\n",
      "Breadth: 45\n"
     ]
    },
    {
     "name": "stdout",
     "output_type": "stream",
     "text": [
      "Perimeter formula: Height1+Height2+Breadth\n",
      "Perimeter of Triangle:  52\n"
     ]
    }
   ],
   "source": [
    "triangle()"
   ]
  },
  {
   "cell_type": "code",
   "execution_count": null,
   "id": "80d5e7f8-f728-4f44-b89c-61fc3655a4e0",
   "metadata": {},
   "outputs": [],
   "source": []
  }
 ],
 "metadata": {
  "kernelspec": {
   "display_name": "Python 3 (ipykernel)",
   "language": "python",
   "name": "python3"
  },
  "language_info": {
   "codemirror_mode": {
    "name": "ipython",
    "version": 3
   },
   "file_extension": ".py",
   "mimetype": "text/x-python",
   "name": "python",
   "nbconvert_exporter": "python",
   "pygments_lexer": "ipython3",
   "version": "3.11.7"
  }
 },
 "nbformat": 4,
 "nbformat_minor": 5
}
